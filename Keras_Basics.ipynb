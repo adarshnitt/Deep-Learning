{
  "nbformat": 4,
  "nbformat_minor": 0,
  "metadata": {
    "colab": {
      "name": "Keras Basics.ipynb",
      "provenance": [],
      "authorship_tag": "ABX9TyPcoqqfhxDKIr3001BrLyqN",
      "include_colab_link": true
    },
    "kernelspec": {
      "name": "python3",
      "display_name": "Python 3"
    },
    "language_info": {
      "name": "python"
    }
  },
  "cells": [
    {
      "cell_type": "markdown",
      "metadata": {
        "id": "view-in-github",
        "colab_type": "text"
      },
      "source": [
        "<a href=\"https://colab.research.google.com/github/adarshnitt/Deep-Learning/blob/main/Keras_Basics.ipynb\" target=\"_parent\"><img src=\"https://colab.research.google.com/assets/colab-badge.svg\" alt=\"Open In Colab\"/></a>"
      ]
    },
    {
      "cell_type": "code",
      "execution_count": 3,
      "metadata": {
        "id": "cYN-VsYH1IHX"
      },
      "outputs": [],
      "source": [
        "# keras is maainly for neural network lib\n",
        "# API: application programming Interface.\n",
        "# tensorflow: both low and high, but keras is high level api.\n",
        "from tensorflow import keras"
      ]
    },
    {
      "cell_type": "code",
      "source": [
        "import numpy as np\n",
        "import random"
      ],
      "metadata": {
        "id": "d-myjBg815Vi"
      },
      "execution_count": 1,
      "outputs": []
    },
    {
      "cell_type": "code",
      "source": [
        "random.seed(69) # for reproducibility\n",
        "# us \"time\" to \"seed\" kar diya, revisit it anymoment.\n",
        "#when ever u run wiyh yhis seed, it will give result as seed refer same past time that was seed."
      ],
      "metadata": {
        "id": "3bWEGB5-15Xq"
      },
      "execution_count": 2,
      "outputs": []
    },
    {
      "cell_type": "code",
      "source": [
        "# Sequential model: sequence of stacked layers\n",
        "from keras.models import Sequential  # staacking layers sequentially"
      ],
      "metadata": {
        "id": "OxVXkLF115bA"
      },
      "execution_count": 4,
      "outputs": []
    },
    {
      "cell_type": "code",
      "source": [
        "Sequential?"
      ],
      "metadata": {
        "id": "ZHbS28E315c6"
      },
      "execution_count": 5,
      "outputs": []
    },
    {
      "cell_type": "code",
      "source": [
        "# importing core layers\n",
        "# demse layer: deeply connected with prev layers\n",
        "#Flatten: convert data into 1-d\n",
        "from keras.layers import Dense, Dropout,Activation,Flatten"
      ],
      "metadata": {
        "id": "QUrqztMK15el"
      },
      "execution_count": 8,
      "outputs": []
    },
    {
      "cell_type": "code",
      "source": [
        "# relu: max(0,x)\n",
        "# maxpooling: downsampling karta, dimention reducion\n",
        "# stride: no of pixel shift over input matrix\n",
        "# softmax: 0-1 , probability distrubtion. E(x/E xi)i=1\n",
        "# sigmoid: 1/(1+e*(-x)). scale data into 0-1 range.\n",
        "# tnh : -1 to 1 range.\n",
        "#padding: \n",
        "# 1- valid: no more additional pixels add at riht and bottom of input matrix, loss of info psoouible as some part never convolve.\n",
        "# 2- same: add xtra uints in matrix but filter must convolve every part of matrix, no more loss."
      ],
      "metadata": {
        "id": "bjya6zWVK4Jf"
      },
      "execution_count": null,
      "outputs": []
    },
    {
      "cell_type": "code",
      "source": [
        "# convolution: adding signal A & B to give new signal C using mathmatics.\n",
        "# used for traing using convoltion through mathematical entities.\n",
        "#Convolution2D: 2 dimention 2d\n",
        "from keras.layers import Convolution2D,MaxPooling2D"
      ],
      "metadata": {
        "id": "35IUo_bR15gP"
      },
      "execution_count": 18,
      "outputs": []
    },
    {
      "cell_type": "code",
      "source": [
        "model=Sequential()"
      ],
      "metadata": {
        "id": "tJzQh6vD15jZ"
      },
      "execution_count": 10,
      "outputs": []
    },
    {
      "cell_type": "code",
      "source": [
        "model=Sequential()\n",
        "model.add(Convolution2D(64,kernel_size=3,activation=\"relu\",input_shape=(28,28,1)))"
      ],
      "metadata": {
        "id": "Z02jmg6K15mG"
      },
      "execution_count": 14,
      "outputs": []
    },
    {
      "cell_type": "code",
      "source": [
        "model.add(Convolution2D(32,kernel_size=(3,3),padding=\"same\",activation=\"relu\"))\n",
        "model.add(MaxPooling2D(pool_size=(2,2)))\n",
        "model.add(Convolution2D(64,kernel_size=(3,3),padding=\"same\",activation=\"relu\"))\n",
        "model.add(MaxPooling2D(pool_size=(2,2)))\n",
        "model.add(Activation(\"softmax\"))"
      ],
      "metadata": {
        "id": "MvbJruK215oS"
      },
      "execution_count": 20,
      "outputs": []
    },
    {
      "cell_type": "code",
      "source": [
        ""
      ],
      "metadata": {
        "id": "FzzMJwuC15qx"
      },
      "execution_count": null,
      "outputs": []
    },
    {
      "cell_type": "markdown",
      "source": [
        "# types of model in keras\n",
        "1- Sequential: stacked layered <br>\n",
        "2- Functional: allow multiple input or output model <br>\n",
        "3- Standard Network Model: CNN,RNN,MLP <br>\n",
        "4- Transfer learning"
      ],
      "metadata": {
        "id": "locoDDEH4p7P"
      }
    },
    {
      "cell_type": "code",
      "source": [
        ""
      ],
      "metadata": {
        "id": "MDwdQBIPWiHY"
      },
      "execution_count": 15,
      "outputs": []
    },
    {
      "cell_type": "code",
      "source": [
        ""
      ],
      "metadata": {
        "id": "t1m04VM415tJ"
      },
      "execution_count": null,
      "outputs": []
    },
    {
      "cell_type": "code",
      "source": [
        ""
      ],
      "metadata": {
        "id": "s7z_L-OX15uc"
      },
      "execution_count": null,
      "outputs": []
    },
    {
      "cell_type": "code",
      "source": [
        ""
      ],
      "metadata": {
        "id": "x_rVVFr315wT"
      },
      "execution_count": null,
      "outputs": []
    },
    {
      "cell_type": "code",
      "source": [
        ""
      ],
      "metadata": {
        "id": "ssM0gqNp15yP"
      },
      "execution_count": null,
      "outputs": []
    },
    {
      "cell_type": "code",
      "source": [
        ""
      ],
      "metadata": {
        "id": "ti-geUiR1518"
      },
      "execution_count": null,
      "outputs": []
    }
  ]
}
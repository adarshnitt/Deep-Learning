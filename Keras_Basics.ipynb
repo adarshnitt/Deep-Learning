{
  "nbformat": 4,
  "nbformat_minor": 0,
  "metadata": {
    "colab": {
      "name": "Keras Basics.ipynb",
      "provenance": [],
      "include_colab_link": true
    },
    "kernelspec": {
      "name": "python3",
      "display_name": "Python 3"
    },
    "language_info": {
      "name": "python"
    }
  },
  "cells": [
    {
      "cell_type": "markdown",
      "metadata": {
        "id": "view-in-github",
        "colab_type": "text"
      },
      "source": [
        "<a href=\"https://colab.research.google.com/github/adarshnitt/Deep-Learning/blob/main/Keras_Basics.ipynb\" target=\"_parent\"><img src=\"https://colab.research.google.com/assets/colab-badge.svg\" alt=\"Open In Colab\"/></a>"
      ]
    },
    {
      "cell_type": "code",
      "execution_count": null,
      "metadata": {
        "id": "cYN-VsYH1IHX"
      },
      "outputs": [],
      "source": [
        "1-  https://www.tensorflow.org/api_docs/python/tf\n",
        "2-  https://keras.io/api/\n",
        "\n",
        "\n",
        "\n",
        "# keras is maainly for neural network lib\n",
        "# API: application programming Interface.\n",
        "# tensorflow: both low and high, but keras is high level api.\n",
        "from tensorflow import keras\\\n",
        "# ! pip install tensorflow-gpu"
      ]
    },
    {
      "cell_type": "code",
      "source": [
        "(No_images_channels,x,y,z)=image_directory # image_directory me No_images_channels hai."
      ],
      "metadata": {
        "id": "Dh64quxgC_uJ"
      },
      "execution_count": null,
      "outputs": []
    },
    {
      "cell_type": "code",
      "source": [
        "import numpy as np\n",
        "import random"
      ],
      "metadata": {
        "id": "d-myjBg815Vi"
      },
      "execution_count": null,
      "outputs": []
    },
    {
      "cell_type": "code",
      "source": [
        "random.seed(69) # for reproducibility\n",
        "# us \"time\" to \"seed\" kar diya, revisit it anymoment.\n",
        "#when ever u run wiyh yhis seed, it will give result as seed refer same past time that was seed."
      ],
      "metadata": {
        "id": "3bWEGB5-15Xq"
      },
      "execution_count": null,
      "outputs": []
    },
    {
      "cell_type": "code",
      "source": [
        "# Sequential model: sequence of stacked layers\n",
        "from keras.models import Sequential  # staacking layers sequentially"
      ],
      "metadata": {
        "id": "OxVXkLF115bA"
      },
      "execution_count": null,
      "outputs": []
    },
    {
      "cell_type": "code",
      "source": [
        "# importing core layers\n",
        "# demse layer: deeply connected with prev layers\n",
        "#Flatten: convert data into 1-d\n",
        "from keras.layers import Dense, Dropout,Activation,Flatten"
      ],
      "metadata": {
        "id": "QUrqztMK15el"
      },
      "execution_count": null,
      "outputs": []
    },
    {
      "cell_type": "code",
      "source": [
        "# relu: max(0,x)\n",
        "# maxpooling: downsampling karta, dimention reducion\n",
        "# stride: no of pixel shift over input matrix :\n",
        "# final size after convilve will br N to |((N-f+2p)/s)+1|\n",
        "# softmax: 0-1 , probability distrubtion. E(x/E xi)i=1\n",
        "# sigmoid: 1/(1+e*(-x)). scale data into 0-1 range.\n",
        "# tnh : -1 to 1 range.\n",
        "#padding: \n",
        "# 1- valid: no more additional pixels add at riht and bottom of input matrix, loss of info psoouible as some part never convolve. output size will be ((N-f+2p)/s)+1\n",
        "# 2- same: add xtra uints in matrix but filter must convolve every part of matrix, no more loss. input size same as output size,((N-f+2p)/s)+1=N), same shape ka output ayega.\n",
        "# Regularization: to avoid over/under fitting. Adding a regularization term with cost function, https://www.analyticsvidhya.com/blog/2018/04/fundamentals-deep-learning-regularization-techniques/\n",
        "# Normalization: bringind data into common mathmatical scale 0 mean 1 variance, https://www.analyticsvidhya.com/blog/2021/03/introduction-to-batch-normalization/\n",
        "#  Hyper parameter: learning rate, regularization constant lambda, etc\n",
        "# Gradient descent: optimization tech, gain minima of loss fubnction.(Adam Optimizer) \n",
        "# Batch:full training data and update model again | stochastic :singleton  | mini-batch:few\n",
        "# Dropout: Randomly hide some hidden  units from NN while training."
      ],
      "metadata": {
        "id": "bjya6zWVK4Jf"
      },
      "execution_count": null,
      "outputs": []
    },
    {
      "cell_type": "code",
      "source": [
        "# convolution: adding signal A & B to give new signal C using mathmatics.\n",
        "# used for traing using convoltion through mathematical entities.\n",
        "#Convolution2D: 2 dimention 2d\n",
        "from keras.layers import Convolution2D,MaxPooling2D"
      ],
      "metadata": {
        "id": "35IUo_bR15gP"
      },
      "execution_count": null,
      "outputs": []
    },
    {
      "cell_type": "code",
      "source": [
        "model=Sequential()"
      ],
      "metadata": {
        "id": "tJzQh6vD15jZ"
      },
      "execution_count": null,
      "outputs": []
    },
    {
      "cell_type": "code",
      "source": [
        "model=Sequential()\n",
        "model.add(Convolution2D(64,kernel_size=3,activation=\"relu\",input_shape=(28,28,1)))"
      ],
      "metadata": {
        "id": "Z02jmg6K15mG"
      },
      "execution_count": null,
      "outputs": []
    },
    {
      "cell_type": "code",
      "source": [
        "model.add(Convolution2D(32,kernel_size=(3,3),padding=\"same\",activation=\"relu\"))\n",
        "model.add(MaxPooling2D(pool_size=(2,2)))\n",
        "model.add(Convolution2D(64,kernel_size=(3,3),padding=\"same\",activation=\"relu\"))\n",
        "model.add(MaxPooling2D(pool_size=(2,2)))\n",
        "model.add(Activation(\"softmax\"))"
      ],
      "metadata": {
        "id": "MvbJruK215oS"
      },
      "execution_count": null,
      "outputs": []
    },
    {
      "cell_type": "markdown",
      "source": [
        "# types of model in keras\n",
        "1- Sequential: stacked layered <br>\n",
        "2- Functional: allow multiple input or output model <br>\n",
        "3- Standard Network Model: CNN,RNN,MLP <br>\n",
        "4- Transfer learning"
      ],
      "metadata": {
        "id": "locoDDEH4p7P"
      }
    },
    {
      "cell_type": "code",
      "source": [
        "! pip install tensorflow-gpu"
      ],
      "metadata": {
        "id": "MDwdQBIPWiHY",
        "outputId": "f9cb7ad4-70aa-4fdb-a0f2-175d130e828c",
        "colab": {
          "base_uri": "https://localhost:8080/"
        }
      },
      "execution_count": 4,
      "outputs": [
        {
          "output_type": "stream",
          "name": "stdout",
          "text": [
            "Collecting tensorflow-gpu\n",
            "  Downloading tensorflow_gpu-2.7.0-cp37-cp37m-manylinux2010_x86_64.whl (489.6 MB)\n",
            "\u001b[K     |███████████▏                    | 171.0 MB 85.0 MB/s eta 0:00:04\u001b[31mERROR: Exception:\n",
            "Traceback (most recent call last):\n",
            "  File \"/usr/local/lib/python3.7/dist-packages/pip/_internal/cli/base_command.py\", line 180, in _main\n",
            "    status = self.run(options, args)\n",
            "  File \"/usr/local/lib/python3.7/dist-packages/pip/_internal/cli/req_command.py\", line 199, in wrapper\n",
            "    return func(self, options, args)\n",
            "  File \"/usr/local/lib/python3.7/dist-packages/pip/_internal/commands/install.py\", line 319, in run\n",
            "    reqs, check_supported_wheels=not options.target_dir\n",
            "  File \"/usr/local/lib/python3.7/dist-packages/pip/_internal/resolution/resolvelib/resolver.py\", line 128, in resolve\n",
            "    requirements, max_rounds=try_to_avoid_resolution_too_deep\n",
            "  File \"/usr/local/lib/python3.7/dist-packages/pip/_vendor/resolvelib/resolvers.py\", line 473, in resolve\n",
            "    state = resolution.resolve(requirements, max_rounds=max_rounds)\n",
            "  File \"/usr/local/lib/python3.7/dist-packages/pip/_vendor/resolvelib/resolvers.py\", line 341, in resolve\n",
            "    name, crit = self._merge_into_criterion(r, parent=None)\n",
            "  File \"/usr/local/lib/python3.7/dist-packages/pip/_vendor/resolvelib/resolvers.py\", line 172, in _merge_into_criterion\n",
            "    if not criterion.candidates:\n",
            "  File \"/usr/local/lib/python3.7/dist-packages/pip/_vendor/resolvelib/structs.py\", line 139, in __bool__\n",
            "    return bool(self._sequence)\n",
            "  File \"/usr/local/lib/python3.7/dist-packages/pip/_internal/resolution/resolvelib/found_candidates.py\", line 143, in __bool__\n",
            "    return any(self)\n",
            "  File \"/usr/local/lib/python3.7/dist-packages/pip/_internal/resolution/resolvelib/found_candidates.py\", line 129, in <genexpr>\n",
            "    return (c for c in iterator if id(c) not in self._incompatible_ids)\n",
            "  File \"/usr/local/lib/python3.7/dist-packages/pip/_internal/resolution/resolvelib/found_candidates.py\", line 33, in _iter_built\n",
            "    candidate = func()\n",
            "  File \"/usr/local/lib/python3.7/dist-packages/pip/_internal/resolution/resolvelib/factory.py\", line 205, in _make_candidate_from_link\n",
            "    version=version,\n",
            "  File \"/usr/local/lib/python3.7/dist-packages/pip/_internal/resolution/resolvelib/candidates.py\", line 312, in __init__\n",
            "    version=version,\n",
            "  File \"/usr/local/lib/python3.7/dist-packages/pip/_internal/resolution/resolvelib/candidates.py\", line 151, in __init__\n",
            "    self.dist = self._prepare()\n",
            "  File \"/usr/local/lib/python3.7/dist-packages/pip/_internal/resolution/resolvelib/candidates.py\", line 234, in _prepare\n",
            "    dist = self._prepare_distribution()\n",
            "  File \"/usr/local/lib/python3.7/dist-packages/pip/_internal/resolution/resolvelib/candidates.py\", line 318, in _prepare_distribution\n",
            "    self._ireq, parallel_builds=True\n",
            "  File \"/usr/local/lib/python3.7/dist-packages/pip/_internal/operations/prepare.py\", line 508, in prepare_linked_requirement\n",
            "    return self._prepare_linked_requirement(req, parallel_builds)\n",
            "  File \"/usr/local/lib/python3.7/dist-packages/pip/_internal/operations/prepare.py\", line 552, in _prepare_linked_requirement\n",
            "    self.download_dir, hashes\n",
            "  File \"/usr/local/lib/python3.7/dist-packages/pip/_internal/operations/prepare.py\", line 243, in unpack_url\n",
            "    hashes=hashes,\n",
            "  File \"/usr/local/lib/python3.7/dist-packages/pip/_internal/operations/prepare.py\", line 102, in get_http_url\n",
            "    from_path, content_type = download(link, temp_dir.path)\n",
            "  File \"/usr/local/lib/python3.7/dist-packages/pip/_internal/network/download.py\", line 157, in __call__\n",
            "    for chunk in chunks:\n",
            "  File \"/usr/local/lib/python3.7/dist-packages/pip/_internal/cli/progress_bars.py\", line 156, in iter\n",
            "    self.next(len(x))  # noqa: B305\n",
            "  File \"/usr/local/lib/python3.7/dist-packages/pip/_vendor/progress/__init__.py\", line 120, in next\n",
            "    self.update()\n",
            "  File \"/usr/local/lib/python3.7/dist-packages/pip/_vendor/progress/bar.py\", line 83, in update\n",
            "    self.writeln(line)\n",
            "  File \"/usr/local/lib/python3.7/dist-packages/pip/_vendor/progress/__init__.py\", line 101, in writeln\n",
            "    self.clearln()\n",
            "  File \"/usr/local/lib/python3.7/dist-packages/pip/_vendor/progress/__init__.py\", line 90, in clearln\n",
            "    print('\\r\\x1b[K', end='', file=self.file)\n",
            "  File \"/usr/local/lib/python3.7/dist-packages/pip/_internal/cli/progress_bars.py\", line 106, in handle_sigint\n",
            "    self.finish()\n",
            "  File \"/usr/local/lib/python3.7/dist-packages/pip/_internal/cli/progress_bars.py\", line 96, in finish\n",
            "    super().finish()  # type: ignore\n",
            "  File \"/usr/local/lib/python3.7/dist-packages/pip/_vendor/progress/__init__.py\", line 107, in finish\n",
            "    print(file=self.file)\n",
            "RuntimeError: reentrant call inside <_io.BufferedWriter name='<stdout>'>\u001b[0m\n",
            "\u001b[K"
          ]
        }
      ]
    }
  ]
}